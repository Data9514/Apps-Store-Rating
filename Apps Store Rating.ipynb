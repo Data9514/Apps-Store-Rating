{
 "cells": [
  {
   "cell_type": "code",
   "execution_count": 1,
   "id": "f2e062bb-9021-4d3a-af72-904c855c78b6",
   "metadata": {},
   "outputs": [
    {
     "name": "stderr",
     "output_type": "stream",
     "text": [
      "C:\\Users\\dinak\\AppData\\Local\\Temp\\ipykernel_4996\\2151744951.py:1: DeprecationWarning: \n",
      "Pyarrow will become a required dependency of pandas in the next major release of pandas (pandas 3.0),\n",
      "(to allow more performant data types, such as the Arrow string type, and better interoperability with other libraries)\n",
      "but was not found to be installed on your system.\n",
      "If this would cause problems for you,\n",
      "please provide us feedback at https://github.com/pandas-dev/pandas/issues/54466\n",
      "        \n",
      "  import pandas as pd\n"
     ]
    }
   ],
   "source": [
    "import pandas as pd\n",
    "import numpy as np\n",
    "import matplotlib.pyplot as plt"
   ]
  },
  {
   "cell_type": "code",
   "execution_count": 2,
   "id": "a95e9d22-02ec-448b-8df4-09c8655afcc6",
   "metadata": {},
   "outputs": [
    {
     "data": {
      "text/html": [
       "<div>\n",
       "<style scoped>\n",
       "    .dataframe tbody tr th:only-of-type {\n",
       "        vertical-align: middle;\n",
       "    }\n",
       "\n",
       "    .dataframe tbody tr th {\n",
       "        vertical-align: top;\n",
       "    }\n",
       "\n",
       "    .dataframe thead th {\n",
       "        text-align: right;\n",
       "    }\n",
       "</style>\n",
       "<table border=\"1\" class=\"dataframe\">\n",
       "  <thead>\n",
       "    <tr style=\"text-align: right;\">\n",
       "      <th></th>\n",
       "      <th>App</th>\n",
       "      <th>Category</th>\n",
       "      <th>Rating</th>\n",
       "      <th>Reviews</th>\n",
       "      <th>Size</th>\n",
       "      <th>Installs</th>\n",
       "      <th>Type</th>\n",
       "      <th>Price</th>\n",
       "      <th>Content Rating</th>\n",
       "      <th>Genres</th>\n",
       "      <th>Last Updated</th>\n",
       "      <th>Current Ver</th>\n",
       "      <th>Android Ver</th>\n",
       "    </tr>\n",
       "  </thead>\n",
       "  <tbody>\n",
       "    <tr>\n",
       "      <th>0</th>\n",
       "      <td>Photo Editor &amp; Candy Camera &amp; Grid &amp; ScrapBook</td>\n",
       "      <td>ART_AND_DESIGN</td>\n",
       "      <td>4.1</td>\n",
       "      <td>159</td>\n",
       "      <td>19M</td>\n",
       "      <td>10,000+</td>\n",
       "      <td>Free</td>\n",
       "      <td>0</td>\n",
       "      <td>Everyone</td>\n",
       "      <td>Art &amp; Design</td>\n",
       "      <td>January 7, 2018</td>\n",
       "      <td>1.0.0</td>\n",
       "      <td>4.0.3 and up</td>\n",
       "    </tr>\n",
       "    <tr>\n",
       "      <th>1</th>\n",
       "      <td>Coloring book moana</td>\n",
       "      <td>ART_AND_DESIGN</td>\n",
       "      <td>3.9</td>\n",
       "      <td>967</td>\n",
       "      <td>14M</td>\n",
       "      <td>500,000+</td>\n",
       "      <td>Free</td>\n",
       "      <td>0</td>\n",
       "      <td>Everyone</td>\n",
       "      <td>Art &amp; Design;Pretend Play</td>\n",
       "      <td>January 15, 2018</td>\n",
       "      <td>2.0.0</td>\n",
       "      <td>4.0.3 and up</td>\n",
       "    </tr>\n",
       "    <tr>\n",
       "      <th>2</th>\n",
       "      <td>U Launcher Lite – FREE Live Cool Themes, Hide ...</td>\n",
       "      <td>ART_AND_DESIGN</td>\n",
       "      <td>4.7</td>\n",
       "      <td>87510</td>\n",
       "      <td>8.7M</td>\n",
       "      <td>5,000,000+</td>\n",
       "      <td>Free</td>\n",
       "      <td>0</td>\n",
       "      <td>Everyone</td>\n",
       "      <td>Art &amp; Design</td>\n",
       "      <td>August 1, 2018</td>\n",
       "      <td>1.2.4</td>\n",
       "      <td>4.0.3 and up</td>\n",
       "    </tr>\n",
       "    <tr>\n",
       "      <th>3</th>\n",
       "      <td>Sketch - Draw &amp; Paint</td>\n",
       "      <td>ART_AND_DESIGN</td>\n",
       "      <td>4.5</td>\n",
       "      <td>215644</td>\n",
       "      <td>25M</td>\n",
       "      <td>50,000,000+</td>\n",
       "      <td>Free</td>\n",
       "      <td>0</td>\n",
       "      <td>Teen</td>\n",
       "      <td>Art &amp; Design</td>\n",
       "      <td>June 8, 2018</td>\n",
       "      <td>Varies with device</td>\n",
       "      <td>4.2 and up</td>\n",
       "    </tr>\n",
       "    <tr>\n",
       "      <th>4</th>\n",
       "      <td>Pixel Draw - Number Art Coloring Book</td>\n",
       "      <td>ART_AND_DESIGN</td>\n",
       "      <td>4.3</td>\n",
       "      <td>967</td>\n",
       "      <td>2.8M</td>\n",
       "      <td>100,000+</td>\n",
       "      <td>Free</td>\n",
       "      <td>0</td>\n",
       "      <td>Everyone</td>\n",
       "      <td>Art &amp; Design;Creativity</td>\n",
       "      <td>June 20, 2018</td>\n",
       "      <td>1.1</td>\n",
       "      <td>4.4 and up</td>\n",
       "    </tr>\n",
       "    <tr>\n",
       "      <th>5</th>\n",
       "      <td>Paper flowers instructions</td>\n",
       "      <td>ART_AND_DESIGN</td>\n",
       "      <td>4.4</td>\n",
       "      <td>167</td>\n",
       "      <td>5.6M</td>\n",
       "      <td>50,000+</td>\n",
       "      <td>Free</td>\n",
       "      <td>0</td>\n",
       "      <td>Everyone</td>\n",
       "      <td>Art &amp; Design</td>\n",
       "      <td>March 26, 2017</td>\n",
       "      <td>1.0</td>\n",
       "      <td>2.3 and up</td>\n",
       "    </tr>\n",
       "    <tr>\n",
       "      <th>6</th>\n",
       "      <td>Smoke Effect Photo Maker - Smoke Editor</td>\n",
       "      <td>ART_AND_DESIGN</td>\n",
       "      <td>3.8</td>\n",
       "      <td>178</td>\n",
       "      <td>19M</td>\n",
       "      <td>50,000+</td>\n",
       "      <td>Free</td>\n",
       "      <td>0</td>\n",
       "      <td>Everyone</td>\n",
       "      <td>Art &amp; Design</td>\n",
       "      <td>April 26, 2018</td>\n",
       "      <td>1.1</td>\n",
       "      <td>4.0.3 and up</td>\n",
       "    </tr>\n",
       "    <tr>\n",
       "      <th>7</th>\n",
       "      <td>Infinite Painter</td>\n",
       "      <td>ART_AND_DESIGN</td>\n",
       "      <td>4.1</td>\n",
       "      <td>36815</td>\n",
       "      <td>29M</td>\n",
       "      <td>1,000,000+</td>\n",
       "      <td>Free</td>\n",
       "      <td>0</td>\n",
       "      <td>Everyone</td>\n",
       "      <td>Art &amp; Design</td>\n",
       "      <td>June 14, 2018</td>\n",
       "      <td>6.1.61.1</td>\n",
       "      <td>4.2 and up</td>\n",
       "    </tr>\n",
       "    <tr>\n",
       "      <th>8</th>\n",
       "      <td>Garden Coloring Book</td>\n",
       "      <td>ART_AND_DESIGN</td>\n",
       "      <td>4.4</td>\n",
       "      <td>13791</td>\n",
       "      <td>33M</td>\n",
       "      <td>1,000,000+</td>\n",
       "      <td>Free</td>\n",
       "      <td>0</td>\n",
       "      <td>Everyone</td>\n",
       "      <td>Art &amp; Design</td>\n",
       "      <td>September 20, 2017</td>\n",
       "      <td>2.9.2</td>\n",
       "      <td>3.0 and up</td>\n",
       "    </tr>\n",
       "    <tr>\n",
       "      <th>9</th>\n",
       "      <td>Kids Paint Free - Drawing Fun</td>\n",
       "      <td>ART_AND_DESIGN</td>\n",
       "      <td>4.7</td>\n",
       "      <td>121</td>\n",
       "      <td>3.1M</td>\n",
       "      <td>10,000+</td>\n",
       "      <td>Free</td>\n",
       "      <td>0</td>\n",
       "      <td>Everyone</td>\n",
       "      <td>Art &amp; Design;Creativity</td>\n",
       "      <td>July 3, 2018</td>\n",
       "      <td>2.8</td>\n",
       "      <td>4.0.3 and up</td>\n",
       "    </tr>\n",
       "  </tbody>\n",
       "</table>\n",
       "</div>"
      ],
      "text/plain": [
       "                                                 App        Category  Rating  \\\n",
       "0     Photo Editor & Candy Camera & Grid & ScrapBook  ART_AND_DESIGN     4.1   \n",
       "1                                Coloring book moana  ART_AND_DESIGN     3.9   \n",
       "2  U Launcher Lite – FREE Live Cool Themes, Hide ...  ART_AND_DESIGN     4.7   \n",
       "3                              Sketch - Draw & Paint  ART_AND_DESIGN     4.5   \n",
       "4              Pixel Draw - Number Art Coloring Book  ART_AND_DESIGN     4.3   \n",
       "5                         Paper flowers instructions  ART_AND_DESIGN     4.4   \n",
       "6            Smoke Effect Photo Maker - Smoke Editor  ART_AND_DESIGN     3.8   \n",
       "7                                   Infinite Painter  ART_AND_DESIGN     4.1   \n",
       "8                               Garden Coloring Book  ART_AND_DESIGN     4.4   \n",
       "9                      Kids Paint Free - Drawing Fun  ART_AND_DESIGN     4.7   \n",
       "\n",
       "  Reviews  Size     Installs  Type Price Content Rating  \\\n",
       "0     159   19M      10,000+  Free     0       Everyone   \n",
       "1     967   14M     500,000+  Free     0       Everyone   \n",
       "2   87510  8.7M   5,000,000+  Free     0       Everyone   \n",
       "3  215644   25M  50,000,000+  Free     0           Teen   \n",
       "4     967  2.8M     100,000+  Free     0       Everyone   \n",
       "5     167  5.6M      50,000+  Free     0       Everyone   \n",
       "6     178   19M      50,000+  Free     0       Everyone   \n",
       "7   36815   29M   1,000,000+  Free     0       Everyone   \n",
       "8   13791   33M   1,000,000+  Free     0       Everyone   \n",
       "9     121  3.1M      10,000+  Free     0       Everyone   \n",
       "\n",
       "                      Genres        Last Updated         Current Ver  \\\n",
       "0               Art & Design     January 7, 2018               1.0.0   \n",
       "1  Art & Design;Pretend Play    January 15, 2018               2.0.0   \n",
       "2               Art & Design      August 1, 2018               1.2.4   \n",
       "3               Art & Design        June 8, 2018  Varies with device   \n",
       "4    Art & Design;Creativity       June 20, 2018                 1.1   \n",
       "5               Art & Design      March 26, 2017                 1.0   \n",
       "6               Art & Design      April 26, 2018                 1.1   \n",
       "7               Art & Design       June 14, 2018            6.1.61.1   \n",
       "8               Art & Design  September 20, 2017               2.9.2   \n",
       "9    Art & Design;Creativity        July 3, 2018                 2.8   \n",
       "\n",
       "    Android Ver  \n",
       "0  4.0.3 and up  \n",
       "1  4.0.3 and up  \n",
       "2  4.0.3 and up  \n",
       "3    4.2 and up  \n",
       "4    4.4 and up  \n",
       "5    2.3 and up  \n",
       "6  4.0.3 and up  \n",
       "7    4.2 and up  \n",
       "8    3.0 and up  \n",
       "9  4.0.3 and up  "
      ]
     },
     "execution_count": 2,
     "metadata": {},
     "output_type": "execute_result"
    }
   ],
   "source": [
    "# 1. Import required libraries and read the dataset.\n",
    "\n",
    "df = pd.read_csv('Apps_data+(1).csv')\n",
    "df.head(10)"
   ]
  },
  {
   "cell_type": "code",
   "execution_count": null,
   "id": "82a79ff2-e5d9-46d0-85c1-ffa11955c25a",
   "metadata": {},
   "outputs": [],
   "source": []
  },
  {
   "cell_type": "code",
   "execution_count": null,
   "id": "5c11987a-45ac-4c61-bbf3-5c2d52e22dfa",
   "metadata": {},
   "outputs": [],
   "source": [
    "# 2. Check the first few samples, shape, info of the data and try to familiarize yourself with different features.\n",
    "\n",
    "print(df.head(10))\n",
    "print(df.info())\n",
    "print(df.shape)\n",
    "print(df.describe())\n",
    "print(df.tail(10))"
   ]
  },
  {
   "cell_type": "code",
   "execution_count": 3,
   "id": "dd82650d-6712-4cb4-ac66-0422f31b0ac6",
   "metadata": {},
   "outputs": [
    {
     "name": "stdout",
     "output_type": "stream",
     "text": [
      "            Rating\n",
      "count  9367.000000\n",
      "mean      4.193338\n",
      "std       0.537431\n",
      "min       1.000000\n",
      "25%       4.000000\n",
      "50%       4.300000\n",
      "75%       4.500000\n",
      "max      19.000000\n",
      "\n",
      "\n",
      "Missing values:\n",
      " App                  0\n",
      "Category             0\n",
      "Rating            1474\n",
      "Reviews              0\n",
      "Size                 0\n",
      "Installs             0\n",
      "Type                 1\n",
      "Price                0\n",
      "Content Rating       1\n",
      "Genres               0\n",
      "Last Updated         0\n",
      "Current Ver          8\n",
      "Android Ver          3\n",
      "dtype: int64\n"
     ]
    }
   ],
   "source": [
    "# 3. Check summary statistics of the dataset. List out the columns that need to be worked upon for model building.\n",
    "\n",
    "summary_data =df.describe()\n",
    "print(summary_data)\n",
    "\n",
    "# missing values\n",
    "print('\\n')\n",
    "missing_value = df.isnull().sum()\n",
    "print('Missing values:\\n',missing_value)\n"
   ]
  },
  {
   "cell_type": "code",
   "execution_count": null,
   "id": "bc170d7e-2c63-4b06-89de-e474b5749773",
   "metadata": {},
   "outputs": [],
   "source": [
    "# 4. Check if there are any duplicate records in the dataset? if any drop them.\n",
    "df.drop(columns = ['Type'], inplace = True)"
   ]
  },
  {
   "cell_type": "code",
   "execution_count": 6,
   "id": "8794df0c-c74e-4f20-b69b-6c2157072b7f",
   "metadata": {},
   "outputs": [
    {
     "data": {
      "text/plain": [
       "Type    3\n",
       "dtype: int64"
      ]
     },
     "execution_count": 6,
     "metadata": {},
     "output_type": "execute_result"
    }
   ],
   "source": [
    "# 5. Check the unique categories of the column 'Category', Is there any invalid category? If yes, drop them.\n",
    "\n",
    "df[['Type']].nunique()\n"
   ]
  },
  {
   "cell_type": "code",
   "execution_count": null,
   "id": "e36ae1ea-7ac1-45e1-826b-dde7ceb3005b",
   "metadata": {},
   "outputs": [],
   "source": [
    "# 6. Check if there are missing values present in the column Rating, If any? drop them and and create a new\n",
    "# column as 'Rating_category' by converting ratings to high and low categories(>3.5 is high rest low)\n",
    "\n",
    "missing_values = df['Rating'].isnull().sum()\n",
    "print('missing_values:\\n',missing_values)\n",
    "df.dropna(subset=['Rating'], inplace=True)\n",
    "df['Rating_category'] = df['Rating'].apply(lambda x: 'high' if x > 3.5 else 'low')\n",
    "print(df['Rating_category'].head(10))"
   ]
  },
  {
   "cell_type": "code",
   "execution_count": null,
   "id": "10a7289e-fd94-426b-adcf-2323bc55254c",
   "metadata": {},
   "outputs": [],
   "source": [
    "# 7. Check the distribution of the newly created column 'Rating_category' and comment on the distribution.\n",
    "\n",
    "df['Rating_category'].value_counts()"
   ]
  },
  {
   "cell_type": "code",
   "execution_count": 7,
   "id": "80124b67-bd74-434d-a98c-724b967c911d",
   "metadata": {},
   "outputs": [
    {
     "data": {
      "text/plain": [
       "<Figure size 500x500 with 0 Axes>"
      ]
     },
     "metadata": {},
     "output_type": "display_data"
    },
    {
     "data": {
      "image/png": "[encoded data removed]",
      "text/plain": [
       "<Figure size 640x480 with 1 Axes>"
      ]
     },
     "metadata": {},
     "output_type": "display_data"
    }
   ],
   "source": [
    "# 8. Convert the column \"Reviews'' to numeric data type and check the presence of outliers in the column and\n",
    "# handle the outliers using a transformation approach.(Hint: Use log transformation)\n",
    "\n",
    "df['Reviews'] = pd.to_numeric(df['Reviews'], errors='coerce')\n",
    "\n",
    "Q1 = df['Reviews'].quantile(0.25)\n",
    "Q2 = df['Reviews'].quantile(0.5)\n",
    "Q3 = df['Reviews'].quantile(0.75)\n",
    "IQR = Q3 - Q1\n",
    "\n",
    "# outliers\n",
    "LWB = Q3 - 1.5*IQR\n",
    "UWB = Q1 + 1.5*IQR\n",
    "outliers = df[(df['Reviews'] < LWB) | (df['Reviews'] > UWB)]\n",
    "\n",
    "# Visullaition\n",
    "plt.figure(figsize = (5,5))\n",
    "df.plot( kind = 'box')\n",
    "plt.xlabel('X')\n",
    "plt.ylabel('Y')\n",
    "plt.show()"
   ]
  },
  {
   "cell_type": "code",
   "execution_count": null,
   "id": "affe448d-fe8c-46e1-ac10-7692b3c11d42",
   "metadata": {},
   "outputs": [],
   "source": [
    "# 9. The column 'Size' contains alphanumeric values, treat the non numeric data and convert the column into\n",
    "# suitable data type. (hint: Replace M with 1 million and K with 1 thousand, and drop the entries where\n",
    "# size='Varies with device')\n",
    "\n",
    "df['Size'] = df['Size'].replace({'M': 'e6', 'K': 'e3'}, regex=True)\n",
    "df['Size'] = pd.to_numeric(df['Size'], errors='coerce')\n",
    "df['Size']"
   ]
  },
  {
   "cell_type": "code",
   "execution_count": null,
   "id": "52fc6ddc-2363-49b5-a224-34808b47a037",
   "metadata": {},
   "outputs": [],
   "source": [
    "# 10. Check the column 'Installs',  treat the unwanted characters and convert the column into a suitable data type.\n",
    "df['Installs'] = df['Installs'].replace(',','').replace('+','')\n",
    "df['Installs'] = pd.to_numeric(df['Installs'])\n",
    "df['Installs'].dtypes"
   ]
  },
  {
   "cell_type": "code",
   "execution_count": null,
   "id": "96dbeeec-5ec7-4520-a4f4-fe005b03b3d0",
   "metadata": {},
   "outputs": [],
   "source": [
    "# 11. Check the column 'Price' , remove the unwanted characters and convert the column into a suitable data type.\n",
    "\n",
    "df['Price'] = df['Price'].replace"
   ]
  },
  {
   "cell_type": "code",
   "execution_count": null,
   "id": "fb9b66bc-9877-41e5-82ed-bd0df5936027",
   "metadata": {},
   "outputs": [],
   "source": [
    "# 12. Drop the columns which you think redundant for the analysis.(suggestion: drop column 'rating', since we\n",
    "# created a new feature from it (i.e. rating_category) and the columns 'App', 'Rating' ,'Genres','Last Updated',\n",
    "# 'Current Ver','Android Ver' columns since which are redundant for our analysis\n",
    "\n",
    "df_redundant = ['Rating', 'App', 'Rating', 'Genres', 'Last Updated','Current Ver', 'Android Ver']\n",
    "df.drop(columns = df_redundant, inplace =False)"
   ]
  },
  {
   "cell_type": "code",
   "execution_count": null,
   "id": "ef8bab0e-676a-4b54-9576-61a16329a9d0",
   "metadata": {},
   "outputs": [],
   "source": [
    "# 13.Encode the categorical columns.\n",
    "\n",
    "from sklearn.preprocessing import OrdinalEncoder\n",
    "oe = OrdinalEncoder()\n",
    "catcols = df.select_dtypes(include = 'object').columns\n",
    "print(catcols)\n",
    "oe.fit(df[catcols])\n",
    "catcols = pd.DataFrame(oe.transform(df[catcols]))\n",
    "catcols\n"
   ]
  },
  {
   "cell_type": "code",
   "execution_count": null,
   "id": "bb676811-0aeb-4161-9088-e7a507046e51",
   "metadata": {},
   "outputs": [],
   "source": [
    "# 14.Segregate the target and independent features (Hint: Use Rating_category as the target)\n",
    "\n",
    "target = df['Rating']\n",
    "independent_features = df.drop(columns=['Rating'])\n",
    "\n",
    "# Displaying the segregated data\n",
    "print(\"Target:\")\n",
    "print(target)\n",
    "print(\"\\nIndependent Features:\")\n",
    "print(independent_features)"
   ]
  },
  {
   "cell_type": "code",
   "execution_count": null,
   "id": "d90d5ace-9f32-4c35-b2f7-9a4c1f1f2531",
   "metadata": {},
   "outputs": [],
   "source": [
    "# 15. Split the dataset into train and test\n",
    "\n",
    "from sklearn.model_selection import train_test_split\n",
    "x = df[['Rating',\t'Reviews','Size']]\n",
    "y = df[['Category']]\n",
    "X_train, X_test, y_train, y_test =train_test_split(x,y, random_state =555)\n"
   ]
  },
  {
   "cell_type": "code",
   "execution_count": null,
   "id": "a94bf0b7-de54-4750-8149-cd28901a40a7",
   "metadata": {},
   "outputs": [],
   "source": [
    "# 16. Standardize the data, so that the values are within a particular range\n",
    "\n",
    "from sklearn.preprocessing import StandardScaler\n",
    "st = StandardScaler()\n",
    "X_train_st = st.fit_transform(X_train)\n",
    "X_test_st = st.fit_transform(X_test)\n"
   ]
  },
  {
   "cell_type": "code",
   "execution_count": null,
   "id": "e0e109d7-932e-4f19-9a9f-0649470947ec",
   "metadata": {},
   "outputs": [],
   "source": []
  }
 ],
 "metadata": {
  "kernelspec": {
   "display_name": "Python 3 (ipykernel)",
   "language": "python",
   "name": "python3"
  },
  "language_info": {
   "codemirror_mode": {
    "name": "ipython",
    "version": 3
   },
   "file_extension": ".py",
   "mimetype": "text/x-python",
   "name": "python",
   "nbconvert_exporter": "python",
   "pygments_lexer": "ipython3",
   "version": "3.12.1"
  }
 },
 "nbformat": 4,
 "nbformat_minor": 5
}
